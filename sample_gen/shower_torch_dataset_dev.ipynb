{
 "cells": [
  {
   "cell_type": "code",
   "execution_count": 1,
   "id": "a067525a",
   "metadata": {},
   "outputs": [
    {
     "name": "stdout",
     "output_type": "stream",
     "text": [
      "Defaulting to user installation because normal site-packages is not writeable\n",
      "Requirement already satisfied: awkward_pandas in /global/homes/e/ehinkle/.local/perlmutter/python-3.11/lib/python3.11/site-packages (2023.8.0)\n",
      "Requirement already satisfied: awkward>=2.0.0 in /global/homes/e/ehinkle/.local/perlmutter/python-3.11/lib/python3.11/site-packages (from awkward_pandas) (2.6.2)\n",
      "Requirement already satisfied: pandas>=1.2 in /global/common/software/nersc/pe/conda-envs/24.1.0/python-3.11/nersc-python/lib/python3.11/site-packages (from awkward_pandas) (2.1.4)\n",
      "Requirement already satisfied: awkward-cpp==30 in /global/homes/e/ehinkle/.local/perlmutter/python-3.11/lib/python3.11/site-packages (from awkward>=2.0.0->awkward_pandas) (30)\n",
      "Requirement already satisfied: fsspec>=2022.11.0 in /global/common/software/nersc/pe/conda-envs/24.1.0/python-3.11/nersc-python/lib/python3.11/site-packages (from awkward>=2.0.0->awkward_pandas) (2023.12.2)\n",
      "Requirement already satisfied: importlib-metadata>=4.13.0 in /global/common/software/nersc/pe/conda-envs/24.1.0/python-3.11/nersc-python/lib/python3.11/site-packages (from awkward>=2.0.0->awkward_pandas) (7.0.1)\n",
      "Requirement already satisfied: numpy>=1.18.0 in /global/common/software/nersc/pe/conda-envs/24.1.0/python-3.11/nersc-python/lib/python3.11/site-packages (from awkward>=2.0.0->awkward_pandas) (1.26.3)\n",
      "Requirement already satisfied: packaging in /global/common/software/nersc/pe/conda-envs/24.1.0/python-3.11/nersc-python/lib/python3.11/site-packages (from awkward>=2.0.0->awkward_pandas) (23.2)\n",
      "Requirement already satisfied: python-dateutil>=2.8.2 in /global/common/software/nersc/pe/conda-envs/24.1.0/python-3.11/nersc-python/lib/python3.11/site-packages (from pandas>=1.2->awkward_pandas) (2.8.2)\n",
      "Requirement already satisfied: pytz>=2020.1 in /global/common/software/nersc/pe/conda-envs/24.1.0/python-3.11/nersc-python/lib/python3.11/site-packages (from pandas>=1.2->awkward_pandas) (2023.3.post1)\n",
      "Requirement already satisfied: tzdata>=2022.1 in /global/common/software/nersc/pe/conda-envs/24.1.0/python-3.11/nersc-python/lib/python3.11/site-packages (from pandas>=1.2->awkward_pandas) (2023.4)\n",
      "Requirement already satisfied: zipp>=0.5 in /global/common/software/nersc/pe/conda-envs/24.1.0/python-3.11/nersc-python/lib/python3.11/site-packages (from importlib-metadata>=4.13.0->awkward>=2.0.0->awkward_pandas) (3.17.0)\n",
      "Requirement already satisfied: six>=1.5 in /global/common/software/nersc/pe/conda-envs/24.1.0/python-3.11/nersc-python/lib/python3.11/site-packages (from python-dateutil>=2.8.2->pandas>=1.2->awkward_pandas) (1.16.0)\n",
      "\n",
      "\u001b[1m[\u001b[0m\u001b[34;49mnotice\u001b[0m\u001b[1;39;49m]\u001b[0m\u001b[39;49m A new release of pip is available: \u001b[0m\u001b[31;49m24.3.1\u001b[0m\u001b[39;49m -> \u001b[0m\u001b[32;49m25.1.1\u001b[0m\n",
      "\u001b[1m[\u001b[0m\u001b[34;49mnotice\u001b[0m\u001b[1;39;49m]\u001b[0m\u001b[39;49m To update, run: \u001b[0m\u001b[32;49mpip install --upgrade pip\u001b[0m\n",
      "Defaulting to user installation because normal site-packages is not writeable\n",
      "Requirement already satisfied: plotly in /global/homes/e/ehinkle/.local/perlmutter/python-3.11/lib/python3.11/site-packages (6.0.1)\n",
      "Requirement already satisfied: narwhals>=1.15.1 in /global/homes/e/ehinkle/.local/perlmutter/python-3.11/lib/python3.11/site-packages (from plotly) (1.32.0)\n",
      "Requirement already satisfied: packaging in /global/common/software/nersc/pe/conda-envs/24.1.0/python-3.11/nersc-python/lib/python3.11/site-packages (from plotly) (23.2)\n",
      "\n",
      "\u001b[1m[\u001b[0m\u001b[34;49mnotice\u001b[0m\u001b[1;39;49m]\u001b[0m\u001b[39;49m A new release of pip is available: \u001b[0m\u001b[31;49m24.3.1\u001b[0m\u001b[39;49m -> \u001b[0m\u001b[32;49m25.1.1\u001b[0m\n",
      "\u001b[1m[\u001b[0m\u001b[34;49mnotice\u001b[0m\u001b[1;39;49m]\u001b[0m\u001b[39;49m To update, run: \u001b[0m\u001b[32;49mpip install --upgrade pip\u001b[0m\n"
     ]
    }
   ],
   "source": [
    "# LOAD Packages \n",
    "import pandas as pd\n",
    "import numpy as np\n",
    "import awkward as ak\n",
    "!pip install awkward_pandas\n",
    "import matplotlib\n",
    "from mpl_toolkits.mplot3d import Axes3D\n",
    "import os\n",
    "import torch\n",
    "from torch.utils.data import Dataset\n",
    "import matplotlib.pyplot as plt\n",
    "import json\n",
    "import h5py\n",
    "import sys\n",
    "from mpl_toolkits.axes_grid1 import make_axes_locatable\n",
    "!pip install plotly\n",
    "import plotly\n",
    "import plotly.graph_objects as go"
   ]
  },
  {
   "cell_type": "code",
   "execution_count": 2,
   "id": "f2135fc3",
   "metadata": {},
   "outputs": [],
   "source": [
    "# Open edep-sim file: \n",
    "edep_sim_file = \"/global/cfs/cdirs/dune/users/ehinkle/nd_prototypes_ana/sheep-model/sample_gen/test_electron.hdf5\"\n",
    "sim_h5 = h5py.File(edep_sim_file, 'r')"
   ]
  },
  {
   "cell_type": "code",
   "execution_count": null,
   "id": "40bad418",
   "metadata": {},
   "outputs": [],
   "source": [
    "class ShowerDataset(Dataset):\n",
    "         \n",
    "    def __init__(self, h5_file_dir, h5_file_name):\n",
    "\n",
    "        self.file_dir = h5_file_dir\n",
    "        self.h5_file_name = h5_file_name\n",
    "        self.h5_file_path = os.path.join(self.file_dir, self.h5_file_name)\n",
    "        self.h5_file = h5py.File(self.h5_file_path, 'r')\n",
    "        self.events = self.h5_file['events']\n",
    "        self.trajectories = self.h5_file['trajectories']\n",
    "        self.segments = self.h5_file['segments']\n",
    "        \n",
    "\n",
    "    def __len__(self):\n",
    "        return len(self.events)\n",
    "\n",
    "    def __getitem__(self, idx):\n",
    "        event = self.events[idx]\n",
    "        event_id = event['event_id']\n",
    "        trajectories = self.trajectories[self.trajectories['event_id'] == event_id]\n",
    "        segments = self.segments[self.segments['event_id'] == event_id]\n",
    "        true_KE_initial = np.sqrt(np.sum(np.square(event['pxyz_start'])))\n",
    "        seg_dE = segments['dE']\n",
    "        seg_x_start = segments['x_start']\n",
    "        seg_y_start = segments['y_start']\n",
    "        seg_z_start = segments['z_start']\n",
    "        seg_x_end = segments['x_end']\n",
    "        seg_y_end = segments['y_end']\n",
    "        seg_z_end = segments['z_end']\n",
    "        event_data = {\n",
    "            'event_id': event_id,\n",
    "            'pxyz_start': event['pxyz_start'],\n",
    "            'pxyz_end': event['pxyz_end'],\n",
    "            'true_KE_initial': true_KE_initial,\n",
    "            'segments': {\n",
    "                'dE': seg_dE,\n",
    "                'x_start': seg_x_start,\n",
    "                'y_start': seg_y_start,\n",
    "                'z_start': seg_z_start,\n",
    "                'x_end': seg_x_end,\n",
    "                'y_end': seg_y_end,\n",
    "                'z_end': seg_z_end\n",
    "            }\n",
    "        }\n",
    "        return event_data"
   ]
  },
  {
   "cell_type": "code",
   "execution_count": null,
   "id": "feb34dc3",
   "metadata": {},
   "outputs": [],
   "source": []
  }
 ],
 "metadata": {
  "kernelspec": {
   "display_name": "Python 3 (ipykernel)",
   "language": "python",
   "name": "python3"
  },
  "language_info": {
   "codemirror_mode": {
    "name": "ipython",
    "version": 3
   },
   "file_extension": ".py",
   "mimetype": "text/x-python",
   "name": "python",
   "nbconvert_exporter": "python",
   "pygments_lexer": "ipython3",
   "version": "3.11.7"
  }
 },
 "nbformat": 4,
 "nbformat_minor": 5
}
